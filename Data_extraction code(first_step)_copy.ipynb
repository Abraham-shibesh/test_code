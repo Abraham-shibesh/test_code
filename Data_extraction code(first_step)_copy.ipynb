{
 "cells": [
  {
   "cell_type": "code",
   "execution_count": 75,
   "metadata": {
    "collapsed": true
   },
   "outputs": [],
   "source": [
    "import pandas as pd\n",
    "import re\n",
    "import json\n",
    "import os\n",
    "import numpy as np"
   ]
  },
  {
   "cell_type": "code",
   "execution_count": 76,
   "metadata": {
    "collapsed": true
   },
   "outputs": [],
   "source": [
    "os.chdir('/home/laurens/Desktop/Daltix/data')"
   ]
  },
  {
   "cell_type": "code",
   "execution_count": 77,
   "metadata": {
    "collapsed": true
   },
   "outputs": [],
   "source": [
    "data=pd.read_csv('promo_dump.csv')"
   ]
  },
  {
   "cell_type": "code",
   "execution_count": 78,
   "metadata": {
    "collapsed": true
   },
   "outputs": [],
   "source": [
    "data1=data.loc[data.shop=='cora',:]\n",
    "data2=data1.copy()\n",
    "# len(data)"
   ]
  },
  {
   "cell_type": "code",
   "execution_count": 79,
   "metadata": {},
   "outputs": [
    {
     "data": {
      "text/plain": [
       "{'ah', 'cg', 'cora', 'crf', 'dll'}"
      ]
     },
     "execution_count": 79,
     "metadata": {},
     "output_type": "execute_result"
    }
   ],
   "source": [
    "# checking all the unique shops\n",
    "set(data2.promo_strings)\n",
    "set(data.shop)"
   ]
  },
  {
   "cell_type": "code",
   "execution_count": 80,
   "metadata": {
    "collapsed": true
   },
   "outputs": [],
   "source": [
    "# Removing '{' braces to '[' \n",
    "def promo_to_json(promo_strings):\n",
    "    if promo_strings==promo_strings:\n",
    "        # replace brackets\n",
    "        promo_strings = promo_strings.replace('{', '[').replace('}', ']')\n",
    "        try:\n",
    "            return json.loads(promo_strings)\n",
    "        except:\n",
    "            return None\n",
    "    else:\n",
    "        return None\n",
    "\n",
    "data2 = data2.assign(promo_json = lambda x: x['promo_strings'].apply(promo_to_json))\n",
    "#A single row with Multiple observation to single row for each observation \n",
    "# s = data2.apply(lambda x: pd.Series(x['promo_json']),axis=1).stack().reset_index(level=1, drop=True)\n",
    "# s.name = 'promo'\n",
    "# data_new=data2.drop(['promo_json','promo_strings'], axis=1).join(s)\n",
    "#data_new.head()\n",
    "#writing to CSV\n",
    "\n",
    "\n",
    "## removing a list[]\n",
    "s=data2.promo_json.apply(lambda x: \", \".join(x) if x else None)\n",
    "s.name = 'promo'\n",
    "data_new=data2.drop(['promo_json','promo_strings'], axis=1).join(s)"
   ]
  },
  {
   "cell_type": "code",
   "execution_count": null,
   "metadata": {
    "collapsed": true
   },
   "outputs": [],
   "source": [
    "#writing the data into csv to a local machine\n",
    "data_new.to_csv('new_data_cora.csv', encoding='utf-8')"
   ]
  },
  {
   "cell_type": "code",
   "execution_count": null,
   "metadata": {
    "collapsed": true
   },
   "outputs": [],
   "source": [
    "heads.data"
   ]
  },
  {
   "cell_type": "code",
   "execution_count": null,
   "metadata": {
    "collapsed": true,
    "scrolled": true
   },
   "outputs": [],
   "source": [
    "\n"
   ]
  },
  {
   "cell_type": "code",
   "execution_count": null,
   "metadata": {
    "collapsed": true
   },
   "outputs": [],
   "source": []
  }
 ],
 "metadata": {
  "kernelspec": {
   "display_name": "Python 3",
   "language": "python",
   "name": "python3"
  },
  "language_info": {
   "codemirror_mode": {
    "name": "ipython",
    "version": 3
   },
   "file_extension": ".py",
   "mimetype": "text/x-python",
   "name": "python",
   "nbconvert_exporter": "python",
   "pygments_lexer": "ipython3",
   "version": "3.5.2"
  }
 },
 "nbformat": 4,
 "nbformat_minor": 2
}
